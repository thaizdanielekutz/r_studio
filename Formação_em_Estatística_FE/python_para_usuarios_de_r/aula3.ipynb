{
 "cells": [
  {
   "cell_type": "markdown",
   "id": "c87965f1",
   "metadata": {},
   "source": [
    "## Importando as bibliotecas e Dataset"
   ]
  },
  {
   "cell_type": "code",
   "execution_count": 6,
   "id": "bbef23c3",
   "metadata": {},
   "outputs": [],
   "source": [
    "# Importar bibliotecas e dataset\n",
    "import numpy as np\n",
    "import pandas as pd\n",
    "import matplotlib.pyplot as plt\n",
    "from sklearn.datasets import load_iris"
   ]
  },
  {
   "cell_type": "code",
   "execution_count": 9,
   "id": "56c7666f",
   "metadata": {},
   "outputs": [
    {
     "data": {
      "text/html": [
       "<div>\n",
       "<style scoped>\n",
       "    .dataframe tbody tr th:only-of-type {\n",
       "        vertical-align: middle;\n",
       "    }\n",
       "\n",
       "    .dataframe tbody tr th {\n",
       "        vertical-align: top;\n",
       "    }\n",
       "\n",
       "    .dataframe thead th {\n",
       "        text-align: right;\n",
       "    }\n",
       "</style>\n",
       "<table border=\"1\" class=\"dataframe\">\n",
       "  <thead>\n",
       "    <tr style=\"text-align: right;\">\n",
       "      <th></th>\n",
       "      <th>sepal length (cm)</th>\n",
       "      <th>sepal width (cm)</th>\n",
       "      <th>petal length (cm)</th>\n",
       "      <th>petal width (cm)</th>\n",
       "    </tr>\n",
       "  </thead>\n",
       "  <tbody>\n",
       "    <tr>\n",
       "      <th>0</th>\n",
       "      <td>5.1</td>\n",
       "      <td>3.5</td>\n",
       "      <td>1.4</td>\n",
       "      <td>0.2</td>\n",
       "    </tr>\n",
       "    <tr>\n",
       "      <th>1</th>\n",
       "      <td>4.9</td>\n",
       "      <td>3.0</td>\n",
       "      <td>1.4</td>\n",
       "      <td>0.2</td>\n",
       "    </tr>\n",
       "    <tr>\n",
       "      <th>2</th>\n",
       "      <td>4.7</td>\n",
       "      <td>3.2</td>\n",
       "      <td>1.3</td>\n",
       "      <td>0.2</td>\n",
       "    </tr>\n",
       "    <tr>\n",
       "      <th>3</th>\n",
       "      <td>4.6</td>\n",
       "      <td>3.1</td>\n",
       "      <td>1.5</td>\n",
       "      <td>0.2</td>\n",
       "    </tr>\n",
       "    <tr>\n",
       "      <th>4</th>\n",
       "      <td>5.0</td>\n",
       "      <td>3.6</td>\n",
       "      <td>1.4</td>\n",
       "      <td>0.2</td>\n",
       "    </tr>\n",
       "    <tr>\n",
       "      <th>...</th>\n",
       "      <td>...</td>\n",
       "      <td>...</td>\n",
       "      <td>...</td>\n",
       "      <td>...</td>\n",
       "    </tr>\n",
       "    <tr>\n",
       "      <th>145</th>\n",
       "      <td>6.7</td>\n",
       "      <td>3.0</td>\n",
       "      <td>5.2</td>\n",
       "      <td>2.3</td>\n",
       "    </tr>\n",
       "    <tr>\n",
       "      <th>146</th>\n",
       "      <td>6.3</td>\n",
       "      <td>2.5</td>\n",
       "      <td>5.0</td>\n",
       "      <td>1.9</td>\n",
       "    </tr>\n",
       "    <tr>\n",
       "      <th>147</th>\n",
       "      <td>6.5</td>\n",
       "      <td>3.0</td>\n",
       "      <td>5.2</td>\n",
       "      <td>2.0</td>\n",
       "    </tr>\n",
       "    <tr>\n",
       "      <th>148</th>\n",
       "      <td>6.2</td>\n",
       "      <td>3.4</td>\n",
       "      <td>5.4</td>\n",
       "      <td>2.3</td>\n",
       "    </tr>\n",
       "    <tr>\n",
       "      <th>149</th>\n",
       "      <td>5.9</td>\n",
       "      <td>3.0</td>\n",
       "      <td>5.1</td>\n",
       "      <td>1.8</td>\n",
       "    </tr>\n",
       "  </tbody>\n",
       "</table>\n",
       "<p>150 rows × 4 columns</p>\n",
       "</div>"
      ],
      "text/plain": [
       "     sepal length (cm)  sepal width (cm)  petal length (cm)  petal width (cm)\n",
       "0                  5.1               3.5                1.4               0.2\n",
       "1                  4.9               3.0                1.4               0.2\n",
       "2                  4.7               3.2                1.3               0.2\n",
       "3                  4.6               3.1                1.5               0.2\n",
       "4                  5.0               3.6                1.4               0.2\n",
       "..                 ...               ...                ...               ...\n",
       "145                6.7               3.0                5.2               2.3\n",
       "146                6.3               2.5                5.0               1.9\n",
       "147                6.5               3.0                5.2               2.0\n",
       "148                6.2               3.4                5.4               2.3\n",
       "149                5.9               3.0                5.1               1.8\n",
       "\n",
       "[150 rows x 4 columns]"
      ]
     },
     "execution_count": 9,
     "metadata": {},
     "output_type": "execute_result"
    }
   ],
   "source": [
    "# Carregar dataset\n",
    "iris = load_iris(as_frame = True)\n",
    "data = pd.DataFrame(iris.data)\n",
    "data"
   ]
  },
  {
   "cell_type": "markdown",
   "id": "cd93aa32",
   "metadata": {},
   "source": [
    "## Selecionando a amostra a0"
   ]
  },
  {
   "cell_type": "code",
   "execution_count": 10,
   "id": "4e1d1149",
   "metadata": {},
   "outputs": [
    {
     "data": {
      "text/plain": [
       "0      5.1\n",
       "1      4.9\n",
       "2      4.7\n",
       "3      4.6\n",
       "4      5.0\n",
       "      ... \n",
       "145    6.7\n",
       "146    6.3\n",
       "147    6.5\n",
       "148    6.2\n",
       "149    5.9\n",
       "Name: sepal length (cm), Length: 150, dtype: float64"
      ]
     },
     "execution_count": 10,
     "metadata": {},
     "output_type": "execute_result"
    }
   ],
   "source": [
    "# Amostra 0\n",
    "a0 = data['sepal length (cm)']\n",
    "a0"
   ]
  },
  {
   "cell_type": "markdown",
   "id": "e0e9ebef",
   "metadata": {},
   "source": [
    "## Calculando amplitude amostral"
   ]
  },
  {
   "cell_type": "code",
   "execution_count": 11,
   "id": "084f14f3",
   "metadata": {},
   "outputs": [
    {
     "data": {
      "text/plain": [
       "3.6000000000000005"
      ]
     },
     "execution_count": 11,
     "metadata": {},
     "output_type": "execute_result"
    }
   ],
   "source": [
    "# Amplitude amostral\n",
    "h0 = np.max(a0) - np.min(a0)\n",
    "h0"
   ]
  },
  {
   "cell_type": "code",
   "execution_count": 13,
   "id": "71116fdf",
   "metadata": {},
   "outputs": [
    {
     "data": {
      "text/plain": [
       "<bound method NDFrame.describe of 0      5.1\n",
       "1      4.9\n",
       "2      4.7\n",
       "3      4.6\n",
       "4      5.0\n",
       "      ... \n",
       "145    6.7\n",
       "146    6.3\n",
       "147    6.5\n",
       "148    6.2\n",
       "149    5.9\n",
       "Name: sepal length (cm), Length: 150, dtype: float64>"
      ]
     },
     "execution_count": 13,
     "metadata": {},
     "output_type": "execute_result"
    }
   ],
   "source": [
    "a0.describe"
   ]
  },
  {
   "cell_type": "markdown",
   "id": "3ce7dbda",
   "metadata": {},
   "source": [
    "## variância amostral"
   ]
  },
  {
   "cell_type": "code",
   "execution_count": 14,
   "id": "3c18a40a",
   "metadata": {},
   "outputs": [
    {
     "name": "stdout",
     "output_type": "stream",
     "text": [
      "Variância = 0.6856935123042505\n"
     ]
    }
   ],
   "source": [
    "#ddof = Delta Degrees of Freedom - valor removido da divisão (N - ddof)\n",
    "#Se quizermos da população, podemos deixar padrão ou colocar ddof = 0\n",
    "var0 = np.var(a0, ddof=1)\n",
    "print('Variância = {}'.format(var0))"
   ]
  },
  {
   "cell_type": "markdown",
   "id": "e2003d38",
   "metadata": {},
   "source": [
    "## Desvio padrão amostral"
   ]
  },
  {
   "cell_type": "code",
   "execution_count": 15,
   "id": "e4015c87",
   "metadata": {},
   "outputs": [
    {
     "name": "stdout",
     "output_type": "stream",
     "text": [
      "Desvio Padrão = 0.8280661279778629\n"
     ]
    }
   ],
   "source": [
    "#Segue o modelo também da variância\n",
    "sd0 = np.sqrt(var0)\n",
    "sd0 = np.std(a0, ddof=1)\n",
    "print('Desvio Padrão = {}'.format(sd0))"
   ]
  },
  {
   "cell_type": "markdown",
   "id": "e3db8548",
   "metadata": {},
   "source": [
    "## Coeficiente de Variação Amostral"
   ]
  },
  {
   "cell_type": "code",
   "execution_count": 16,
   "id": "18ca6afe",
   "metadata": {},
   "outputs": [
    {
     "name": "stdout",
     "output_type": "stream",
     "text": [
      "Coeficiente de Variação é de 14.17112597794403%\n"
     ]
    }
   ],
   "source": [
    "cv = np.std(a0, ddof = 1)/np.mean(a0)*100\n",
    "print('Coeficiente de Variação é de {}%'.format(cv))"
   ]
  },
  {
   "cell_type": "markdown",
   "id": "4d139802",
   "metadata": {},
   "source": [
    "## Selecionando a amostra a1"
   ]
  },
  {
   "cell_type": "code",
   "execution_count": 17,
   "id": "c89034ab",
   "metadata": {},
   "outputs": [
    {
     "data": {
      "text/plain": [
       "0      1.4\n",
       "1      1.4\n",
       "2      1.3\n",
       "3      1.5\n",
       "4      1.4\n",
       "      ... \n",
       "145    5.2\n",
       "146    5.0\n",
       "147    5.2\n",
       "148    5.4\n",
       "149    5.1\n",
       "Name: petal length (cm), Length: 150, dtype: float64"
      ]
     },
     "execution_count": 17,
     "metadata": {},
     "output_type": "execute_result"
    }
   ],
   "source": [
    "#Amostra 0\n",
    "a1 = data['petal length (cm)']\n",
    "a1"
   ]
  },
  {
   "cell_type": "markdown",
   "id": "c0c5aa2c",
   "metadata": {},
   "source": [
    "## Calculando amplitude amostral"
   ]
  },
  {
   "cell_type": "code",
   "execution_count": 18,
   "id": "5fb21fbb",
   "metadata": {},
   "outputs": [
    {
     "data": {
      "text/plain": [
       "5.9"
      ]
     },
     "execution_count": 18,
     "metadata": {},
     "output_type": "execute_result"
    }
   ],
   "source": [
    "# Amplitude amostral\n",
    "h1 = np.max(a1) - np.min(a1)\n",
    "h1"
   ]
  },
  {
   "cell_type": "code",
   "execution_count": 19,
   "id": "363340c2",
   "metadata": {},
   "outputs": [
    {
     "data": {
      "text/plain": [
       "<bound method NDFrame.describe of 0      1.4\n",
       "1      1.4\n",
       "2      1.3\n",
       "3      1.5\n",
       "4      1.4\n",
       "      ... \n",
       "145    5.2\n",
       "146    5.0\n",
       "147    5.2\n",
       "148    5.4\n",
       "149    5.1\n",
       "Name: petal length (cm), Length: 150, dtype: float64>"
      ]
     },
     "execution_count": 19,
     "metadata": {},
     "output_type": "execute_result"
    }
   ],
   "source": [
    "a1.describe"
   ]
  },
  {
   "cell_type": "markdown",
   "id": "858136af",
   "metadata": {},
   "source": [
    "## Variância Amostral"
   ]
  },
  {
   "cell_type": "code",
   "execution_count": 20,
   "id": "03793dbc",
   "metadata": {},
   "outputs": [
    {
     "name": "stdout",
     "output_type": "stream",
     "text": [
      "Variância = 3.1162778523489942\n"
     ]
    }
   ],
   "source": [
    "#ddof = Delta Degrees of Freedom - valor removido da divisão (N - ddof)\n",
    "#Se quizermos da população, podemos deixar padrão ou colocar ddof = 0\n",
    "var1 = np.var(a1, ddof=1)\n",
    "print('Variância = {}'.format(var1))"
   ]
  },
  {
   "cell_type": "markdown",
   "id": "4a039049",
   "metadata": {},
   "source": [
    "## Desvio padrão amostral"
   ]
  },
  {
   "cell_type": "code",
   "execution_count": 21,
   "id": "27fdc338",
   "metadata": {},
   "outputs": [
    {
     "name": "stdout",
     "output_type": "stream",
     "text": [
      "Desvio Padrão = 1.7652982332594667\n"
     ]
    }
   ],
   "source": [
    "#Segue o modelo também da variância\n",
    "sd1 = np.sqrt(var1)\n",
    "sd1 = np.std(a1, ddof=1)\n",
    "print('Desvio Padrão = {}'.format(sd1))"
   ]
  },
  {
   "cell_type": "markdown",
   "id": "a2c890aa",
   "metadata": {},
   "source": [
    "## Coeficiencia de Variação Amostral"
   ]
  },
  {
   "cell_type": "code",
   "execution_count": 22,
   "id": "059a7dd1",
   "metadata": {},
   "outputs": [
    {
     "name": "stdout",
     "output_type": "stream",
     "text": [
      "Coeficiente de Variação é de 46.97440748428593%\n"
     ]
    }
   ],
   "source": [
    "cv = np.std(a1, ddof = 1)/np.mean(a1)*100\n",
    "print('Coeficiente de Variação é de {}%'.format(cv))"
   ]
  },
  {
   "cell_type": "markdown",
   "id": "17c25298",
   "metadata": {},
   "source": [
    "## Comparação"
   ]
  },
  {
   "cell_type": "code",
   "execution_count": 23,
   "id": "8b1eec86",
   "metadata": {},
   "outputs": [
    {
     "name": "stderr",
     "output_type": "stream",
     "text": [
      "C:\\Users\\Mega\\AppData\\Local\\Temp/ipykernel_13604/1886027404.py:1: UserWarning: color is redundantly defined by the 'color' keyword argument and the fmt string \"ro\" (-> color='r'). The keyword argument will take precedence.\n",
      "  plt.plot(a0, 'ro', c = 'grey')\n"
     ]
    },
    {
     "data": {
      "image/png": "[encoded data removed]",
      "text/plain": [
       "<Figure size 432x288 with 1 Axes>"
      ]
     },
     "metadata": {
      "needs_background": "light"
     },
     "output_type": "display_data"
    },
    {
     "name": "stderr",
     "output_type": "stream",
     "text": [
      "C:\\Users\\Mega\\AppData\\Local\\Temp/ipykernel_13604/1886027404.py:6: UserWarning: color is redundantly defined by the 'color' keyword argument and the fmt string \"ro\" (-> color='r'). The keyword argument will take precedence.\n",
      "  plt.plot(a1, 'ro', c = 'blue')\n"
     ]
    },
    {
     "data": {
      "image/png": "[encoded data removed]",
      "text/plain": [
       "<Figure size 432x288 with 1 Axes>"
      ]
     },
     "metadata": {
      "needs_background": "light"
     },
     "output_type": "display_data"
    }
   ],
   "source": [
    "plt.plot(a0, 'ro', c = 'grey')\n",
    "plt.axhline(np.mean(a0))\n",
    "plt.title('Gráfico da Amostra 0')\n",
    "plt.show()\n",
    "\n",
    "plt.plot(a1, 'ro', c = 'blue')\n",
    "plt.axhline(np.mean(a1))\n",
    "plt.title('Gráfico da Amostra 1')\n",
    "plt.show()"
   ]
  },
  {
   "cell_type": "code",
   "execution_count": null,
   "id": "d988f8f5",
   "metadata": {},
   "outputs": [],
   "source": []
  }
 ],
 "metadata": {
  "kernelspec": {
   "display_name": "Python 3 (ipykernel)",
   "language": "python",
   "name": "python3"
  },
  "language_info": {
   "codemirror_mode": {
    "name": "ipython",
    "version": 3
   },
   "file_extension": ".py",
   "mimetype": "text/x-python",
   "name": "python",
   "nbconvert_exporter": "python",
   "pygments_lexer": "ipython3",
   "version": "3.9.7"
  }
 },
 "nbformat": 4,
 "nbformat_minor": 5
}
