{
 "cells": [
  {
   "cell_type": "markdown",
   "id": "97ea3578",
   "metadata": {},
   "source": [
    "## Importando bibliotecas"
   ]
  },
  {
   "cell_type": "code",
   "execution_count": 27,
   "id": "d0ebf3b3",
   "metadata": {},
   "outputs": [],
   "source": [
    "import numpy as np\n",
    "import pandas as pd\n",
    "from scipy.stats import describe, skew, kurtosis, norm\n",
    "import matplotlib.pyplot as plt\n",
    "import seaborn as sns"
   ]
  },
  {
   "cell_type": "markdown",
   "id": "4cbbf2d5",
   "metadata": {},
   "source": [
    "## Criando nossa amostra"
   ]
  },
  {
   "cell_type": "code",
   "execution_count": 28,
   "id": "ad1b3b2e",
   "metadata": {},
   "outputs": [],
   "source": [
    "# Amostra\n",
    "c0 = np.array([7,1,5,2,3,1,6])"
   ]
  },
  {
   "cell_type": "markdown",
   "id": "24bfd45f",
   "metadata": {},
   "source": [
    "## Calculando as frequências "
   ]
  },
  {
   "cell_type": "code",
   "execution_count": 29,
   "id": "6ff10da9",
   "metadata": {},
   "outputs": [
    {
     "data": {
      "text/plain": [
       "a\n",
       "1    2\n",
       "2    1\n",
       "3    1\n",
       "5    1\n",
       "6    1\n",
       "7    1\n",
       "dtype: int64"
      ]
     },
     "execution_count": 29,
     "metadata": {},
     "output_type": "execute_result"
    }
   ],
   "source": [
    "table = pd.DataFrame(c0,columns=['a'])\n",
    "table.groupby(['a']).size()"
   ]
  },
  {
   "cell_type": "markdown",
   "id": "f6fba370",
   "metadata": {},
   "source": [
    "## Calculando média, mediana e moda"
   ]
  },
  {
   "cell_type": "code",
   "execution_count": 36,
   "id": "19d0c2d4",
   "metadata": {},
   "outputs": [
    {
     "ename": "AttributeError",
     "evalue": "module 'numpy' has no attribute 'mode'",
     "output_type": "error",
     "traceback": [
      "\u001b[1;31m---------------------------------------------------------------------------\u001b[0m",
      "\u001b[1;31mAttributeError\u001b[0m                            Traceback (most recent call last)",
      "\u001b[1;32m~\\AppData\\Local\\Temp/ipykernel_9808/4185329148.py\u001b[0m in \u001b[0;36m<module>\u001b[1;34m\u001b[0m\n\u001b[0;32m      4\u001b[0m \u001b[0mmediana\u001b[0m \u001b[1;33m=\u001b[0m \u001b[0mnp\u001b[0m\u001b[1;33m.\u001b[0m\u001b[0mmedian\u001b[0m\u001b[1;33m(\u001b[0m\u001b[0mc0\u001b[0m\u001b[1;33m)\u001b[0m\u001b[1;33m\u001b[0m\u001b[1;33m\u001b[0m\u001b[0m\n\u001b[0;32m      5\u001b[0m \u001b[1;31m#Moda\u001b[0m\u001b[1;33m\u001b[0m\u001b[1;33m\u001b[0m\u001b[0m\n\u001b[1;32m----> 6\u001b[1;33m \u001b[0mmoda\u001b[0m \u001b[1;33m=\u001b[0m \u001b[0mnp\u001b[0m\u001b[1;33m.\u001b[0m\u001b[0mmode\u001b[0m\u001b[1;33m(\u001b[0m\u001b[0mc0\u001b[0m\u001b[1;33m)\u001b[0m\u001b[1;33m\u001b[0m\u001b[1;33m\u001b[0m\u001b[0m\n\u001b[0m\u001b[0;32m      7\u001b[0m \u001b[1;31m#Cuidado\u001b[0m\u001b[1;33m\u001b[0m\u001b[1;33m\u001b[0m\u001b[0m\n\u001b[0;32m      8\u001b[0m \u001b[0mprint\u001b[0m\u001b[1;33m(\u001b[0m\u001b[1;34m'A amostra possui média {}, mediana {}, e moda {}'\u001b[0m\u001b[1;33m.\u001b[0m\u001b[0mformat\u001b[0m\u001b[1;33m(\u001b[0m\u001b[0mmedia\u001b[0m\u001b[1;33m,\u001b[0m\u001b[0mmediana\u001b[0m\u001b[1;33m,\u001b[0m \u001b[0mmoda\u001b[0m\u001b[1;33m[\u001b[0m\u001b[1;36m0\u001b[0m\u001b[1;33m]\u001b[0m\u001b[1;33m[\u001b[0m\u001b[1;36m0\u001b[0m\u001b[1;33m]\u001b[0m\u001b[1;33m)\u001b[0m\u001b[1;33m)\u001b[0m\u001b[1;33m\u001b[0m\u001b[1;33m\u001b[0m\u001b[0m\n",
      "\u001b[1;32m~\\anaconda3\\lib\\site-packages\\numpy\\__init__.py\u001b[0m in \u001b[0;36m__getattr__\u001b[1;34m(attr)\u001b[0m\n\u001b[0;32m    301\u001b[0m                 \u001b[1;32mreturn\u001b[0m \u001b[0mTester\u001b[0m\u001b[1;33m\u001b[0m\u001b[1;33m\u001b[0m\u001b[0m\n\u001b[0;32m    302\u001b[0m \u001b[1;33m\u001b[0m\u001b[0m\n\u001b[1;32m--> 303\u001b[1;33m             raise AttributeError(\"module {!r} has no attribute \"\n\u001b[0m\u001b[0;32m    304\u001b[0m                                  \"{!r}\".format(__name__, attr))\n\u001b[0;32m    305\u001b[0m \u001b[1;33m\u001b[0m\u001b[0m\n",
      "\u001b[1;31mAttributeError\u001b[0m: module 'numpy' has no attribute 'mode'"
     ]
    }
   ],
   "source": [
    "#Média\n",
    "media = np.mean(c0)\n",
    "#Mediana\n",
    "mediana = np.median(c0)\n",
    "#Moda\n",
    "moda = np.mode(c0)\n",
    "#Cuidado\n",
    "print('A amostra possui média {}, mediana {}, e moda {}'.format(media,mediana, moda[0][0]))"
   ]
  },
  {
   "cell_type": "markdown",
   "id": "06414581",
   "metadata": {},
   "source": [
    "## Printar assimetria e kurtosis"
   ]
  },
  {
   "cell_type": "code",
   "execution_count": 37,
   "id": "514db6c0",
   "metadata": {},
   "outputs": [
    {
     "name": "stdout",
     "output_type": "stream",
     "text": [
      "Os dados possuem assimetria de 0.24134503102405047 e Kurtosis de -1.513952\n"
     ]
    }
   ],
   "source": [
    "assimetria = skew(c0)\n",
    "kurt = kurtosis(c0)\n",
    "print('Os dados possuem assimetria de {} e Kurtosis de {}'.format(assimetria, kurt))"
   ]
  },
  {
   "cell_type": "markdown",
   "id": "fcfab5e3",
   "metadata": {},
   "source": [
    "## Estatísticas descritivas da nossa amostra"
   ]
  },
  {
   "cell_type": "code",
   "execution_count": 38,
   "id": "ed0913b3",
   "metadata": {},
   "outputs": [
    {
     "data": {
      "text/plain": [
       "DescribeResult(nobs=7, minmax=(1, 7), mean=3.5714285714285716, variance=5.9523809523809526, skewness=0.24134503102405047, kurtosis=-1.513952)"
      ]
     },
     "execution_count": 38,
     "metadata": {},
     "output_type": "execute_result"
    }
   ],
   "source": [
    "describe(c0)"
   ]
  },
  {
   "cell_type": "markdown",
   "id": "eea78f2e",
   "metadata": {},
   "source": [
    "# Gráficos"
   ]
  },
  {
   "cell_type": "markdown",
   "id": "98cec23d",
   "metadata": {},
   "source": [
    "## Plotando gráficos"
   ]
  },
  {
   "cell_type": "code",
   "execution_count": 39,
   "id": "592f0e52",
   "metadata": {},
   "outputs": [
    {
     "name": "stderr",
     "output_type": "stream",
     "text": [
      "C:\\Users\\Mega\\anaconda3\\lib\\site-packages\\seaborn\\distributions.py:2619: FutureWarning: `distplot` is a deprecated function and will be removed in a future version. Please adapt your code to use either `displot` (a figure-level function with similar flexibility) or `histplot` (an axes-level function for histograms).\n",
      "  warnings.warn(msg, FutureWarning)\n"
     ]
    },
    {
     "data": {
      "image/png": "[encoded data removed]",
      "text/plain": [
       "<Figure size 432x288 with 4 Axes>"
      ]
     },
     "metadata": {
      "needs_background": "light"
     },
     "output_type": "display_data"
    }
   ],
   "source": [
    "#Plotar gráficos\n",
    "fig, ax=plt.subplots(2,2)\n",
    "ax[0,0].bar(c0,c0)\n",
    "sns.histplot(c0, bins = 4, ax = ax[0,1])\n",
    "sns.distplot(c0,ax = ax[1,0], kde = True, bins = 4,)\n",
    "plt.show()"
   ]
  },
  {
   "cell_type": "code",
   "execution_count": null,
   "id": "f8b88190",
   "metadata": {},
   "outputs": [],
   "source": []
  }
 ],
 "metadata": {
  "kernelspec": {
   "display_name": "Python 3 (ipykernel)",
   "language": "python",
   "name": "python3"
  },
  "language_info": {
   "codemirror_mode": {
    "name": "ipython",
    "version": 3
   },
   "file_extension": ".py",
   "mimetype": "text/x-python",
   "name": "python",
   "nbconvert_exporter": "python",
   "pygments_lexer": "ipython3",
   "version": "3.9.7"
  }
 },
 "nbformat": 4,
 "nbformat_minor": 5
}
