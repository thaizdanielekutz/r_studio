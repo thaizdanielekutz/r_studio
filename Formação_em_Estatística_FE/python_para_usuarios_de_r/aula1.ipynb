{
 "cells": [
  {
   "cell_type": "markdown",
   "id": "f49d334e",
   "metadata": {},
   "source": [
    "## Importando bibliotecas"
   ]
  },
  {
   "cell_type": "code",
   "execution_count": 1,
   "id": "d35d87fe",
   "metadata": {},
   "outputs": [],
   "source": [
    "import numpy as np\n",
    "import pandas as pd"
   ]
  },
  {
   "cell_type": "markdown",
   "id": "86869c99",
   "metadata": {},
   "source": [
    "## Gerar dados"
   ]
  },
  {
   "cell_type": "code",
   "execution_count": 9,
   "id": "84224f8a",
   "metadata": {},
   "outputs": [
    {
     "data": {
      "text/plain": [
       "array([10, 10, 10, 10, 30, 30, 30, 30, 30, 30, 30, 30, 50, 50, 50, 50, 70,\n",
       "       70, 70, 90])"
      ]
     },
     "execution_count": 9,
     "metadata": {},
     "output_type": "execute_result"
    }
   ],
   "source": [
    "idade = np.array([10,10,10,10,30,30,30,30,30,30,30,30,50,50,50,50,70,70,70,90])\n",
    "idade"
   ]
  },
  {
   "cell_type": "markdown",
   "id": "b585d085",
   "metadata": {},
   "source": [
    "## Tipo de classe"
   ]
  },
  {
   "cell_type": "code",
   "execution_count": 4,
   "id": "0403157d",
   "metadata": {},
   "outputs": [
    {
     "data": {
      "text/plain": [
       "dtype('int32')"
      ]
     },
     "execution_count": 4,
     "metadata": {},
     "output_type": "execute_result"
    }
   ],
   "source": [
    "idade.dtype"
   ]
  },
  {
   "cell_type": "code",
   "execution_count": 5,
   "id": "617662e1",
   "metadata": {},
   "outputs": [
    {
     "data": {
      "text/plain": [
       "array([10, 10, 10, 10, 30, 30, 30, 30, 30, 30, 30, 30, 50, 50, 50, 50, 70,\n",
       "       70, 70, 90])"
      ]
     },
     "execution_count": 5,
     "metadata": {},
     "output_type": "execute_result"
    }
   ],
   "source": [
    "# Ou\n",
    "idade_rep = np.concatenate([np.repeat(10,4), np.repeat(30,8), np.repeat(50,4),np.repeat(70,3), np.repeat(90,1)])\n",
    "idade_rep"
   ]
  },
  {
   "cell_type": "code",
   "execution_count": 7,
   "id": "b456c3bd",
   "metadata": {},
   "outputs": [
    {
     "data": {
      "text/plain": [
       "array([10, 10, 10, 10, 30, 30, 30, 30, 30, 30, 30, 30, 50, 50, 50, 50, 70,\n",
       "       70, 70, 90])"
      ]
     },
     "execution_count": 7,
     "metadata": {},
     "output_type": "execute_result"
    }
   ],
   "source": [
    "# Ou\n",
    "idade_rep = np.repeat(np.array([10,30,50,70,90]), repeats = [4,8,4,3,1], axis = 0)\n",
    "idade_rep"
   ]
  },
  {
   "cell_type": "markdown",
   "id": "3031eac3",
   "metadata": {},
   "source": [
    "## Verificando"
   ]
  },
  {
   "cell_type": "code",
   "execution_count": 10,
   "id": "00c3a3e9",
   "metadata": {},
   "outputs": [
    {
     "data": {
      "text/plain": [
       "array([ True,  True,  True,  True,  True,  True,  True,  True,  True,\n",
       "        True,  True,  True,  True,  True,  True,  True,  True,  True,\n",
       "        True,  True])"
      ]
     },
     "execution_count": 10,
     "metadata": {},
     "output_type": "execute_result"
    }
   ],
   "source": [
    "idade==idade_rep"
   ]
  },
  {
   "cell_type": "markdown",
   "id": "2604be4e",
   "metadata": {},
   "source": [
    "## Transformar em tabela (Data Frame)"
   ]
  },
  {
   "cell_type": "code",
   "execution_count": 13,
   "id": "977aa5f8",
   "metadata": {},
   "outputs": [
    {
     "data": {
      "text/html": [
       "<div>\n",
       "<style scoped>\n",
       "    .dataframe tbody tr th:only-of-type {\n",
       "        vertical-align: middle;\n",
       "    }\n",
       "\n",
       "    .dataframe tbody tr th {\n",
       "        vertical-align: top;\n",
       "    }\n",
       "\n",
       "    .dataframe thead th {\n",
       "        text-align: right;\n",
       "    }\n",
       "</style>\n",
       "<table border=\"1\" class=\"dataframe\">\n",
       "  <thead>\n",
       "    <tr style=\"text-align: right;\">\n",
       "      <th></th>\n",
       "      <th>a</th>\n",
       "    </tr>\n",
       "  </thead>\n",
       "  <tbody>\n",
       "    <tr>\n",
       "      <th>0</th>\n",
       "      <td>10</td>\n",
       "    </tr>\n",
       "    <tr>\n",
       "      <th>1</th>\n",
       "      <td>10</td>\n",
       "    </tr>\n",
       "    <tr>\n",
       "      <th>2</th>\n",
       "      <td>10</td>\n",
       "    </tr>\n",
       "    <tr>\n",
       "      <th>3</th>\n",
       "      <td>10</td>\n",
       "    </tr>\n",
       "    <tr>\n",
       "      <th>4</th>\n",
       "      <td>30</td>\n",
       "    </tr>\n",
       "    <tr>\n",
       "      <th>5</th>\n",
       "      <td>30</td>\n",
       "    </tr>\n",
       "    <tr>\n",
       "      <th>6</th>\n",
       "      <td>30</td>\n",
       "    </tr>\n",
       "    <tr>\n",
       "      <th>7</th>\n",
       "      <td>30</td>\n",
       "    </tr>\n",
       "    <tr>\n",
       "      <th>8</th>\n",
       "      <td>30</td>\n",
       "    </tr>\n",
       "    <tr>\n",
       "      <th>9</th>\n",
       "      <td>30</td>\n",
       "    </tr>\n",
       "    <tr>\n",
       "      <th>10</th>\n",
       "      <td>30</td>\n",
       "    </tr>\n",
       "    <tr>\n",
       "      <th>11</th>\n",
       "      <td>30</td>\n",
       "    </tr>\n",
       "    <tr>\n",
       "      <th>12</th>\n",
       "      <td>50</td>\n",
       "    </tr>\n",
       "    <tr>\n",
       "      <th>13</th>\n",
       "      <td>50</td>\n",
       "    </tr>\n",
       "    <tr>\n",
       "      <th>14</th>\n",
       "      <td>50</td>\n",
       "    </tr>\n",
       "    <tr>\n",
       "      <th>15</th>\n",
       "      <td>50</td>\n",
       "    </tr>\n",
       "    <tr>\n",
       "      <th>16</th>\n",
       "      <td>70</td>\n",
       "    </tr>\n",
       "    <tr>\n",
       "      <th>17</th>\n",
       "      <td>70</td>\n",
       "    </tr>\n",
       "    <tr>\n",
       "      <th>18</th>\n",
       "      <td>70</td>\n",
       "    </tr>\n",
       "    <tr>\n",
       "      <th>19</th>\n",
       "      <td>90</td>\n",
       "    </tr>\n",
       "  </tbody>\n",
       "</table>\n",
       "</div>"
      ],
      "text/plain": [
       "     a\n",
       "0   10\n",
       "1   10\n",
       "2   10\n",
       "3   10\n",
       "4   30\n",
       "5   30\n",
       "6   30\n",
       "7   30\n",
       "8   30\n",
       "9   30\n",
       "10  30\n",
       "11  30\n",
       "12  50\n",
       "13  50\n",
       "14  50\n",
       "15  50\n",
       "16  70\n",
       "17  70\n",
       "18  70\n",
       "19  90"
      ]
     },
     "execution_count": 13,
     "metadata": {},
     "output_type": "execute_result"
    }
   ],
   "source": [
    "table = pd.DataFrame(idade, columns=['a'])\n",
    "table\n",
    "#table.value_counts()\n",
    "#table.columns = ['Idade', 'Freq']"
   ]
  },
  {
   "cell_type": "markdown",
   "id": "881c10a3",
   "metadata": {},
   "source": [
    "## Calculando as frequências simples"
   ]
  },
  {
   "cell_type": "code",
   "execution_count": 14,
   "id": "94190d26",
   "metadata": {},
   "outputs": [
    {
     "data": {
      "text/plain": [
       "a\n",
       "10    4\n",
       "30    8\n",
       "50    4\n",
       "70    3\n",
       "90    1\n",
       "dtype: int64"
      ]
     },
     "execution_count": 14,
     "metadata": {},
     "output_type": "execute_result"
    }
   ],
   "source": [
    "table.groupby(['a']).size()"
   ]
  },
  {
   "cell_type": "markdown",
   "id": "0f29fc86",
   "metadata": {},
   "source": [
    "## Quantidade total de alunos"
   ]
  },
  {
   "cell_type": "code",
   "execution_count": 16,
   "id": "407c22d5",
   "metadata": {},
   "outputs": [
    {
     "data": {
      "text/plain": [
       "20"
      ]
     },
     "execution_count": 16,
     "metadata": {},
     "output_type": "execute_result"
    }
   ],
   "source": [
    "table.groupby(['a']).size().sum()"
   ]
  },
  {
   "cell_type": "code",
   "execution_count": 17,
   "id": "0af67711",
   "metadata": {},
   "outputs": [
    {
     "data": {
      "text/html": [
       "<div>\n",
       "<style scoped>\n",
       "    .dataframe tbody tr th:only-of-type {\n",
       "        vertical-align: middle;\n",
       "    }\n",
       "\n",
       "    .dataframe tbody tr th {\n",
       "        vertical-align: top;\n",
       "    }\n",
       "\n",
       "    .dataframe thead th {\n",
       "        text-align: right;\n",
       "    }\n",
       "</style>\n",
       "<table border=\"1\" class=\"dataframe\">\n",
       "  <thead>\n",
       "    <tr style=\"text-align: right;\">\n",
       "      <th></th>\n",
       "      <th>0</th>\n",
       "    </tr>\n",
       "    <tr>\n",
       "      <th>a</th>\n",
       "      <th></th>\n",
       "    </tr>\n",
       "  </thead>\n",
       "  <tbody>\n",
       "    <tr>\n",
       "      <th>10</th>\n",
       "      <td>4</td>\n",
       "    </tr>\n",
       "    <tr>\n",
       "      <th>30</th>\n",
       "      <td>8</td>\n",
       "    </tr>\n",
       "    <tr>\n",
       "      <th>50</th>\n",
       "      <td>4</td>\n",
       "    </tr>\n",
       "    <tr>\n",
       "      <th>70</th>\n",
       "      <td>3</td>\n",
       "    </tr>\n",
       "    <tr>\n",
       "      <th>90</th>\n",
       "      <td>1</td>\n",
       "    </tr>\n",
       "  </tbody>\n",
       "</table>\n",
       "</div>"
      ],
      "text/plain": [
       "    0\n",
       "a    \n",
       "10  4\n",
       "30  8\n",
       "50  4\n",
       "70  3\n",
       "90  1"
      ]
     },
     "execution_count": 17,
     "metadata": {},
     "output_type": "execute_result"
    }
   ],
   "source": [
    "tablenovo=pd.DataFrame(table.groupby(['a']).size())\n",
    "tablenovo"
   ]
  },
  {
   "cell_type": "markdown",
   "id": "d5c771e2",
   "metadata": {},
   "source": [
    "## Adicionar Colunas de Frequências"
   ]
  },
  {
   "cell_type": "code",
   "execution_count": 18,
   "id": "bcbfb09a",
   "metadata": {},
   "outputs": [
    {
     "data": {
      "text/html": [
       "<div>\n",
       "<style scoped>\n",
       "    .dataframe tbody tr th:only-of-type {\n",
       "        vertical-align: middle;\n",
       "    }\n",
       "\n",
       "    .dataframe tbody tr th {\n",
       "        vertical-align: top;\n",
       "    }\n",
       "\n",
       "    .dataframe thead th {\n",
       "        text-align: right;\n",
       "    }\n",
       "</style>\n",
       "<table border=\"1\" class=\"dataframe\">\n",
       "  <thead>\n",
       "    <tr style=\"text-align: right;\">\n",
       "      <th></th>\n",
       "      <th>0</th>\n",
       "      <th>Freq_acumulada</th>\n",
       "    </tr>\n",
       "    <tr>\n",
       "      <th>a</th>\n",
       "      <th></th>\n",
       "      <th></th>\n",
       "    </tr>\n",
       "  </thead>\n",
       "  <tbody>\n",
       "    <tr>\n",
       "      <th>10</th>\n",
       "      <td>4</td>\n",
       "      <td>4</td>\n",
       "    </tr>\n",
       "    <tr>\n",
       "      <th>30</th>\n",
       "      <td>8</td>\n",
       "      <td>12</td>\n",
       "    </tr>\n",
       "    <tr>\n",
       "      <th>50</th>\n",
       "      <td>4</td>\n",
       "      <td>16</td>\n",
       "    </tr>\n",
       "    <tr>\n",
       "      <th>70</th>\n",
       "      <td>3</td>\n",
       "      <td>19</td>\n",
       "    </tr>\n",
       "    <tr>\n",
       "      <th>90</th>\n",
       "      <td>1</td>\n",
       "      <td>20</td>\n",
       "    </tr>\n",
       "  </tbody>\n",
       "</table>\n",
       "</div>"
      ],
      "text/plain": [
       "    0  Freq_acumulada\n",
       "a                    \n",
       "10  4               4\n",
       "30  8              12\n",
       "50  4              16\n",
       "70  3              19\n",
       "90  1              20"
      ]
     },
     "execution_count": 18,
     "metadata": {},
     "output_type": "execute_result"
    }
   ],
   "source": [
    "#table['Freq_acumulada'] = table['Freq'].cumsum()\n",
    "tablenovo['Freq_acumulada'] = table.groupby(['a']).size().cumsum()\n",
    "tablenovo"
   ]
  },
  {
   "cell_type": "code",
   "execution_count": 20,
   "id": "8ba6b0a1",
   "metadata": {},
   "outputs": [
    {
     "data": {
      "text/html": [
       "<div>\n",
       "<style scoped>\n",
       "    .dataframe tbody tr th:only-of-type {\n",
       "        vertical-align: middle;\n",
       "    }\n",
       "\n",
       "    .dataframe tbody tr th {\n",
       "        vertical-align: top;\n",
       "    }\n",
       "\n",
       "    .dataframe thead th {\n",
       "        text-align: right;\n",
       "    }\n",
       "</style>\n",
       "<table border=\"1\" class=\"dataframe\">\n",
       "  <thead>\n",
       "    <tr style=\"text-align: right;\">\n",
       "      <th></th>\n",
       "      <th>0</th>\n",
       "      <th>Freq_acumulada</th>\n",
       "      <th>Freq_relativa_simples</th>\n",
       "    </tr>\n",
       "    <tr>\n",
       "      <th>a</th>\n",
       "      <th></th>\n",
       "      <th></th>\n",
       "      <th></th>\n",
       "    </tr>\n",
       "  </thead>\n",
       "  <tbody>\n",
       "    <tr>\n",
       "      <th>10</th>\n",
       "      <td>4</td>\n",
       "      <td>4</td>\n",
       "      <td>0.056338</td>\n",
       "    </tr>\n",
       "    <tr>\n",
       "      <th>30</th>\n",
       "      <td>8</td>\n",
       "      <td>12</td>\n",
       "      <td>0.169014</td>\n",
       "    </tr>\n",
       "    <tr>\n",
       "      <th>50</th>\n",
       "      <td>4</td>\n",
       "      <td>16</td>\n",
       "      <td>0.225352</td>\n",
       "    </tr>\n",
       "    <tr>\n",
       "      <th>70</th>\n",
       "      <td>3</td>\n",
       "      <td>19</td>\n",
       "      <td>0.267606</td>\n",
       "    </tr>\n",
       "    <tr>\n",
       "      <th>90</th>\n",
       "      <td>1</td>\n",
       "      <td>20</td>\n",
       "      <td>0.281690</td>\n",
       "    </tr>\n",
       "  </tbody>\n",
       "</table>\n",
       "</div>"
      ],
      "text/plain": [
       "    0  Freq_acumulada  Freq_relativa_simples\n",
       "a                                           \n",
       "10  4               4               0.056338\n",
       "30  8              12               0.169014\n",
       "50  4              16               0.225352\n",
       "70  3              19               0.267606\n",
       "90  1              20               0.281690"
      ]
     },
     "execution_count": 20,
     "metadata": {},
     "output_type": "execute_result"
    }
   ],
   "source": [
    "tablenovo['Freq_relativa_simples'] = table.groupby(['a']).size().cumsum()/tablenovo['Freq_acumulada'].sum()\n",
    "tablenovo"
   ]
  },
  {
   "cell_type": "code",
   "execution_count": 22,
   "id": "cfac4159",
   "metadata": {},
   "outputs": [
    {
     "data": {
      "text/html": [
       "<div>\n",
       "<style scoped>\n",
       "    .dataframe tbody tr th:only-of-type {\n",
       "        vertical-align: middle;\n",
       "    }\n",
       "\n",
       "    .dataframe tbody tr th {\n",
       "        vertical-align: top;\n",
       "    }\n",
       "\n",
       "    .dataframe thead th {\n",
       "        text-align: right;\n",
       "    }\n",
       "</style>\n",
       "<table border=\"1\" class=\"dataframe\">\n",
       "  <thead>\n",
       "    <tr style=\"text-align: right;\">\n",
       "      <th></th>\n",
       "      <th>0</th>\n",
       "      <th>Freq_acumulada</th>\n",
       "      <th>Freq_relativa_simples</th>\n",
       "      <th>Freq_relativa_acumulada</th>\n",
       "    </tr>\n",
       "    <tr>\n",
       "      <th>a</th>\n",
       "      <th></th>\n",
       "      <th></th>\n",
       "      <th></th>\n",
       "      <th></th>\n",
       "    </tr>\n",
       "  </thead>\n",
       "  <tbody>\n",
       "    <tr>\n",
       "      <th>10</th>\n",
       "      <td>4</td>\n",
       "      <td>4</td>\n",
       "      <td>0.056338</td>\n",
       "      <td>0.056338</td>\n",
       "    </tr>\n",
       "    <tr>\n",
       "      <th>30</th>\n",
       "      <td>8</td>\n",
       "      <td>12</td>\n",
       "      <td>0.169014</td>\n",
       "      <td>0.225352</td>\n",
       "    </tr>\n",
       "    <tr>\n",
       "      <th>50</th>\n",
       "      <td>4</td>\n",
       "      <td>16</td>\n",
       "      <td>0.225352</td>\n",
       "      <td>0.450704</td>\n",
       "    </tr>\n",
       "    <tr>\n",
       "      <th>70</th>\n",
       "      <td>3</td>\n",
       "      <td>19</td>\n",
       "      <td>0.267606</td>\n",
       "      <td>0.718310</td>\n",
       "    </tr>\n",
       "    <tr>\n",
       "      <th>90</th>\n",
       "      <td>1</td>\n",
       "      <td>20</td>\n",
       "      <td>0.281690</td>\n",
       "      <td>1.000000</td>\n",
       "    </tr>\n",
       "  </tbody>\n",
       "</table>\n",
       "</div>"
      ],
      "text/plain": [
       "    0  Freq_acumulada  Freq_relativa_simples  Freq_relativa_acumulada\n",
       "a                                                                    \n",
       "10  4               4               0.056338                 0.056338\n",
       "30  8              12               0.169014                 0.225352\n",
       "50  4              16               0.225352                 0.450704\n",
       "70  3              19               0.267606                 0.718310\n",
       "90  1              20               0.281690                 1.000000"
      ]
     },
     "execution_count": 22,
     "metadata": {},
     "output_type": "execute_result"
    }
   ],
   "source": [
    "tablenovo['Freq_relativa_acumulada'] = tablenovo['Freq_relativa_simples'].cumsum()\n",
    "tablenovo"
   ]
  },
  {
   "cell_type": "code",
   "execution_count": 23,
   "id": "96a58752",
   "metadata": {},
   "outputs": [
    {
     "name": "stdout",
     "output_type": "stream",
     "text": [
      "    0  Freq_acumulada  Freq_relativa_simples  Freq_relativa_acumulada\n",
      "a                                                                    \n",
      "10  4               4               0.056338                 0.056338\n",
      "30  8              12               0.169014                 0.225352\n",
      "50  4              16               0.225352                 0.450704\n",
      "70  3              19               0.267606                 0.718310\n",
      "90  1              20               0.281690                 1.000000\n"
     ]
    }
   ],
   "source": [
    "print(tablenovo.head())"
   ]
  },
  {
   "cell_type": "code",
   "execution_count": null,
   "id": "78cd30a6",
   "metadata": {},
   "outputs": [],
   "source": []
  },
  {
   "cell_type": "code",
   "execution_count": null,
   "id": "87ee321e",
   "metadata": {},
   "outputs": [],
   "source": []
  }
 ],
 "metadata": {
  "kernelspec": {
   "display_name": "Python 3 (ipykernel)",
   "language": "python",
   "name": "python3"
  },
  "language_info": {
   "codemirror_mode": {
    "name": "ipython",
    "version": 3
   },
   "file_extension": ".py",
   "mimetype": "text/x-python",
   "name": "python",
   "nbconvert_exporter": "python",
   "pygments_lexer": "ipython3",
   "version": "3.9.7"
  }
 },
 "nbformat": 4,
 "nbformat_minor": 5
}
